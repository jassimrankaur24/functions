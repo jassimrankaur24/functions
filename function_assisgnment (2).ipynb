{
  "nbformat": 4,
  "nbformat_minor": 0,
  "metadata": {
    "colab": {
      "provenance": []
    },
    "kernelspec": {
      "name": "python3",
      "display_name": "Python 3"
    },
    "language_info": {
      "name": "python"
    }
  },
  "cells": [
    {
      "cell_type": "code",
      "execution_count": null,
      "metadata": {
        "id": "MOPg3B1E28-q"
      },
      "outputs": [],
      "source": []
    },
    {
      "cell_type": "markdown",
      "source": [],
      "metadata": {
        "id": "EcqIeHFu3YuC"
      }
    },
    {
      "cell_type": "code",
      "source": [],
      "metadata": {
        "id": "kFmnylLJQSkX"
      },
      "execution_count": null,
      "outputs": []
    },
    {
      "cell_type": "markdown",
      "source": [],
      "metadata": {
        "id": "lesM6VEPQUVy"
      }
    },
    {
      "cell_type": "markdown",
      "source": [
        "FUNCTIONS ASSIGNMENT\n",
        "\n",
        "Q1. What is difference between a function and a method in python ?  \n",
        "A1.   A function is a block of code that performs a specific task and can be called independently     \n",
        "FOR EXAMPLE - def add(a,b): return a + b   \n",
        "A method is a function that is associated with an object and is called on that object       \n",
        "FOR EXAMPLE - list.append(item)     \n",
        "\n",
        "Q2. Explain the concept of function arguments and parameters in python.    \n",
        "A2. FUNCTIONS       \n",
        "    A function is a block of reusable code that performs a specific tasks. Functions help make programes more organised modular and easier to maintain\n",
        "\n",
        "\n",
        "    EXAMPLE: def greet():\n",
        "              print(\"Hello\")\n",
        "\n",
        "    ARGUMENTS\n",
        "    Arguments are the actual values you pass to the function when you call it. they fill in the function's parameters    \n",
        "    EXAMPLE: greet(\"alice\")    \n",
        "    here \"alice\" is an argument passed to the greet function which assigns it to the name parameters         \n",
        "\n",
        "    PARAMETERS     \n",
        "    Parameters are variable listed inside the parantheses in the function definition they act as placeholders for the values the function needs to do its job      \n",
        "    EXAMPLE: def greet(name):    \n",
        "                 print(f\"Hello, {name} ! \")     \n",
        "    here name is a parameter              \n",
        "\n",
        "\n",
        "    Q3. What are the different ways to define and call a function in python?        \n",
        "    A3.  WAYS TO DEFINE FUNCTION IN PYTHON    \n",
        "    1. Regular function   \n",
        "     defined using def keyword   \n",
        "     EXAMPLE: def greet(name):     \n",
        "                  return f\"hello, {name}\"        \n",
        "    2. Function with default parameters     \n",
        "       useful when some arguments are optional\n",
        "       def greet(name=\"guest\"):\n",
        "           return f\"hello, {name}\"           \n",
        "    3. Functions with variable lenghth arguments      \n",
        "       *args for any number of positional arguments   \n",
        "       EXAMPLE: def add_all(*args):   \n",
        "                    return sum(args)        \n",
        "\n",
        "      4. Lambda functions    \n",
        "         useful for small, short lived functions\n",
        "         EXAMPLE: square = lambda x: x * x        \n",
        "\n",
        "\n",
        "      5. Nested functions\n",
        "         function inside another function   \n",
        "         EXAMPLE: def outer():    \n",
        "                      def inner():    \n",
        "                           return\"inner!\"      \n",
        "                      return inner()          \n",
        "\n",
        "      6. Function with return statement    \n",
        "          EXAMPLE: def multiply(a,b):   \n",
        "                       return a * b       \n",
        "\n",
        "\n",
        "      WAYS TO CALL FUNCTIONS  \n",
        "\n",
        "   1. Positional arguments   \n",
        "      greet(\"Alice\")    \n",
        "       \n",
        "   \n",
        "   2. Keyword arguments   \n",
        "     greet(name=\"bob\")     \n",
        "      \n",
        "\n",
        "   3. Default arguments\n",
        "     greet() # uses default \"guest\"    \n",
        "\n",
        "\n",
        "    4. Unpacking with *args or **kwargs    \n",
        "       number= (1,2,3)  \n",
        "       add_all(*numbers)   \n",
        "       info= {\"name\": \"simran\" , \"age\": 12}   \n",
        "       print_info(**info)       \n",
        "\n",
        "    5. Calling lambda functions  \n",
        "       result= (lambda x, y: x+y)(3,4) # returns 7    \n",
        "\n",
        "\n",
        " Q4. What is the purpose of the return statement in python function?      \n",
        " A4. the return function allows a function to send data back to the code that called it     \n",
        " EXAMPLE: def add(a,b):\n",
        "              return a + b     \n",
        "         result= add(3,4)\n",
        "         print(result) # output 7    \n",
        "    - when python encounters a return, it immediately exits the function even if there is more code below it  \n",
        "    EXAMPLE: def check_positive(n):\n",
        "             if n>0:\n",
        "                return \"positive\"\n",
        "              return \"not positive\"      \n",
        "    - if a function has no return statement it returns none by default  \n",
        "    EXAMPLE: def say_hello()    \n",
        "                  print(\"hello\")     \n",
        "            x= say_hello()       \n",
        "            print(x)    #output:none       \n",
        "\n",
        "\n",
        "\n",
        "  Q5. What are iterators in python and how do they differ from iterables?      \n",
        "  A5. An iterator is an object in python that represents a stream of data and lets you fetch items one at a time using the next() function.  \n",
        "  \n",
        "  difference between iterators and iterables are     \n",
        "      \n",
        "     ITERABLE   \n",
        "  - Container that can be looped over     \n",
        "  - methods required: __iter__()    \n",
        "  - can be used for loop\n",
        "  - can not call next()\n",
        "  - example: list,tuple,string,set,dict     \n",
        "\n",
        "\n",
        "    ITERATOR   \n",
        "  - Object that does the actual iteration\n",
        "  - methods required: __iter__() and __next__()  \n",
        "  - can be used for loop  \n",
        "  - can call next()  \n",
        "  - consumed once unless re created\n",
        "  - example: object returned by iter(iterable)       \n",
        "\n",
        "\n",
        "\n",
        "  Q6. Explain the concept of generators in python and how they are defined.     \n",
        "  A6. In python generators are a special type of iterator that are used to generate values on the fly one at a time and only when needed. they are memory efficient especially useful for working with large data streams or infinite sequences      \n",
        "  It can be defined as:\n",
        "  1. Using a generator function  \n",
        "  this function does not execute all at once it pauses at yield and resumes where it left off each time it is called  \n",
        "   EXAMPLE: def count_up_to(n):\n",
        "              i=1\n",
        "            while i <= n:\n",
        "                yield i\n",
        "                i += 1     \n",
        "\n",
        "  2. Calling it    \n",
        "      gen= count_up_to(3)           \n",
        "      print(next(gen))  #1                 \n",
        "      print(next(gen))  #2                 \n",
        "      print(next(gen))  #3    \n",
        "\n",
        "    #next(gen) now raises StopIteration     \n",
        "\n",
        "\n",
        " Q7. What are the advantages of using generators over regular functions ?      \n",
        " A7. Advantages of using generators over regular functions are:       \n",
        "    - Generators avoid computing values until needed      \n",
        "    - does not store all data in memory          \n",
        "    - can handle and represent infinite data and sequences        \n",
        "    - it is easier to implement than custom iterators             \n",
        "    - faster performance output values as they are produced         \n",
        "      \n",
        "\n",
        "\n",
        "  Q8. What is a lambda function in python and when is it typically used ?     \n",
        "  A8. Lambda function in python is a small anonymous function defined using the lambda keyword . It is typically used for short, simple operations where defining a full function with def would be unnecessary or verbose  \n",
        "\n",
        "  It is used typically when we have to do quick throwaway operations, especially when passed as arguments to other functions    \n",
        "   \n",
        "\n",
        "\n",
        "  Q9. Explain the purpose and usuage of the map() function in python.      \n",
        "  A9. The map function is used to apply a function to every item in an iterable (like a list or tuplr) and return a new iterator with the result     \n",
        "  Purpose of map is to transform or modify each element in a collection using a specified function without writing an explicit loop      \n",
        "  EXAMPLE:  def square(x):\n",
        "                  return x * x    \n",
        "              nums= [1,2,3,4]  \n",
        "              result= map(square, nums)  \n",
        "              print(list(result))       \n",
        "          # output: [1, 4, 9, 16]                    \n",
        "\n",
        "\n",
        "   Q10. What is difference between map(), reduce() and filter() functions in python ?        \n",
        "   A10. MAP()\n",
        "   - applies function to each item in an iterable\n",
        "   - returns iterator\n",
        "   - does not requires functools\n",
        "   - transforms each item\n",
        "   - EXAMPLE: nums=[1,2,3,4]\n",
        "              squares= list(map(lambda x: x**2, nums))       \n",
        "          # output: [1,4,9,16]         \n",
        "\n",
        "         FILTER()\n",
        "    - filters items that meet a condition (returning true )\n",
        "    - returns iterator       \n",
        "    - does not requires functools     \n",
        "    - keep only items that match a test     \n",
        "    - filters item based on conditions   \n",
        "    - EXAMPLE:   nums=[1,2,3,4,5]  \n",
        "                 evens= list(filter(lambda x: x % 2 == 0, nums))     \n",
        "                 # output: [2,4]         \n",
        "\n",
        "\n",
        "          REDUCE()\n",
        "      - Applies a function cumulatively to the items you must import it from functools\n",
        "      - returns single values\n",
        "      - it requires functools\n",
        "      - it compute cumulative result   \n",
        "      - reduces items to a single value\n",
        "      - EXAMPLE:  from functools import reduce\n",
        "                  nums=[1,2,3,4]\n",
        "                  total= reduce(lambda x, y: x + y, nums)     \n",
        "                  # output: 10          \n",
        "\n",
        "\n",
        "\n",
        "  Q11. Using pen and paper write the internal mechanism for sum operations using reduce function on this given list [47,11,42,13]     \n",
        "  A11. We will use reduce(lambda x,y: x + y, [47,11,42,13] )       \n",
        "  1. start with first two elements:     \n",
        "      x = 47      \n",
        "      y = 11            \n",
        "      result = x + y = 58           \n",
        "   2. now take the result(58) and apply it to next element:      \n",
        "       x = 58       \n",
        "       y = 42         \n",
        "       result = x + y = 100           \n",
        "   3. apply that result (100) to the last element:     \n",
        "        x = 100        \n",
        "        y = 13          \n",
        "        result = x + y = 113              \n",
        "    4. final result:            \n",
        "        reduce(lambda x, y: x + y, [47, 11, 42, 13 ]) - 113\n",
        "\n",
        "\n",
        "\n",
        "\n",
        "\n",
        "                                \n",
        "                                \n",
        "                                  \n",
        "        \n",
        "\n",
        "     \n",
        "\n",
        "\n",
        "\n",
        "  \n",
        "\n",
        "\n",
        "\n",
        "\n",
        "\n",
        "\n"
      ],
      "metadata": {
        "id": "xD5VDHyQ3bsX"
      }
    },
    {
      "cell_type": "markdown",
      "source": [],
      "metadata": {
        "id": "vDqOroBn3VIK"
      }
    },
    {
      "cell_type": "code",
      "source": [
        "#1 write a python function that takes a list of numbers as input and returns the sum of all even numbers in the list\n",
        "def sum_even_numbers(numbers):\n",
        "  return sum(num for num in numbers if num % 2 == 0)"
      ],
      "metadata": {
        "id": "77ZlakvnhU4_"
      },
      "execution_count": 1,
      "outputs": []
    },
    {
      "cell_type": "code",
      "source": [
        "#2 create a python function that accepts a string and returns the reverse of that string\n",
        "def reverse_string(s):\n",
        "  return s[:: -1]"
      ],
      "metadata": {
        "id": "i6PK94IKeBXm"
      },
      "execution_count": 2,
      "outputs": []
    },
    {
      "cell_type": "code",
      "source": [
        "#3 implement a python function that takes a list of integers and returns a new list containing the square of each number\n",
        " l = [ 1,2,3,4 ]\n",
        "list(map(lambda x : x**2 , l))\n"
      ],
      "metadata": {
        "colab": {
          "base_uri": "https://localhost:8080/",
          "height": 106
        },
        "id": "bmxegucgepr6",
        "outputId": "c7056fb8-39f8-4f6f-f262-3d87d744c896"
      },
      "execution_count": 87,
      "outputs": [
        {
          "output_type": "error",
          "ename": "IndentationError",
          "evalue": "unexpected indent (<ipython-input-87-4bb989f54462>, line 2)",
          "traceback": [
            "\u001b[0;36m  File \u001b[0;32m\"<ipython-input-87-4bb989f54462>\"\u001b[0;36m, line \u001b[0;32m2\u001b[0m\n\u001b[0;31m    l = [ 1,2,3,4 ]\u001b[0m\n\u001b[0m    ^\u001b[0m\n\u001b[0;31mIndentationError\u001b[0m\u001b[0;31m:\u001b[0m unexpected indent\n"
          ]
        }
      ]
    },
    {
      "cell_type": "code",
      "source": [
        "#4 write a python function that checks if a given number is prime or not from 1 to 200\n",
        " def is_prime(n):\n",
        "   if n < 2 or n > 200:\n",
        "      return false\n",
        "for i in range(2, int(n ** 0.5)+ 1):\n",
        "  return false\n",
        ""
      ],
      "metadata": {
        "colab": {
          "base_uri": "https://localhost:8080/",
          "height": 106
        },
        "id": "90CWaRNdi-bU",
        "outputId": "b0546449-44c4-4229-bda8-5fdd1f88c535"
      },
      "execution_count": 54,
      "outputs": [
        {
          "output_type": "error",
          "ename": "IndentationError",
          "evalue": "unexpected indent (<ipython-input-54-d047020a2f54>, line 2)",
          "traceback": [
            "\u001b[0;36m  File \u001b[0;32m\"<ipython-input-54-d047020a2f54>\"\u001b[0;36m, line \u001b[0;32m2\u001b[0m\n\u001b[0;31m    def is_prime(n):\u001b[0m\n\u001b[0m    ^\u001b[0m\n\u001b[0;31mIndentationError\u001b[0m\u001b[0;31m:\u001b[0m unexpected indent\n"
          ]
        }
      ]
    },
    {
      "cell_type": "code",
      "source": [
        "#5create an iterator class in python that generates the fibonacci sequence up to a specified number of terms\n",
        "class fibonacci:\n",
        "  def __init__(self, terms):\n",
        "    self.terms = terms\n",
        "    self.a, self.b = 0, 1\n",
        "    self.count = 0\n",
        "\n",
        "    def  __iter__(self):\n",
        "      return self\n",
        "\n",
        "    def __next__(self):\n",
        "       if self.count >= self.terms:\n",
        "         raise StopIteration\n",
        "         self.count += 1\n",
        "         self.a, self.b = self.b, self.a + self.b\n",
        "         return self.a"
      ],
      "metadata": {
        "id": "6D84bqaIjP0p"
      },
      "execution_count": 26,
      "outputs": []
    },
    {
      "cell_type": "code",
      "source": [
        "#6 create a generator function in python that yields the power of 2 up to a given exponent\n",
        "def power_of_two(exponent):\n",
        "  for i in range(exponent + 1):\n",
        "    yield 2 ** i"
      ],
      "metadata": {
        "id": "9aaYTMFDjwdm"
      },
      "execution_count": 27,
      "outputs": []
    },
    {
      "cell_type": "code",
      "source": [
        "#7 implement a generator function that reads a file line by line and yields each line as a string\n",
        "def read_file_lines(file_path):\n",
        "  with open(file_path, 'r') as file:\n",
        "    for line in file:\n",
        "      yield line.strip()\n",
        "\n",
        ""
      ],
      "metadata": {
        "id": "fU4Jf_2Sj9ZA"
      },
      "execution_count": 34,
      "outputs": []
    },
    {
      "cell_type": "code",
      "source": [
        "#8 use a lambda function in python to sort a list of tuples based on the second element of each tuple\n",
        "tuples = [(1,3), (2,1), (3,2)]\n",
        "list(map(lambda x : sorted(x), tuples))"
      ],
      "metadata": {
        "colab": {
          "base_uri": "https://localhost:8080/"
        },
        "id": "HDaDLZMNkMai",
        "outputId": "eaa62250-176c-4845-e839-0564645b90b9"
      },
      "execution_count": 70,
      "outputs": [
        {
          "output_type": "execute_result",
          "data": {
            "text/plain": [
              "[[1, 3], [1, 2], [2, 3]]"
            ]
          },
          "metadata": {},
          "execution_count": 70
        }
      ]
    },
    {
      "cell_type": "code",
      "source": [
        "#9 write a python programme that uses map() to convert a list of temperatures from celsius to fahrenheit\n",
        "celcius = [0,20,30]\n",
        "list(map(lambda x : x*9/5 + 32 , celsius))\n"
      ],
      "metadata": {
        "colab": {
          "base_uri": "https://localhost:8080/"
        },
        "id": "WYpjPDUOkfj_",
        "outputId": "abf235ea-335e-45aa-c034-391a34c9256a"
      },
      "execution_count": 84,
      "outputs": [
        {
          "output_type": "execute_result",
          "data": {
            "text/plain": [
              "[32.0, 68.0, 86.0]"
            ]
          },
          "metadata": {},
          "execution_count": 84
        }
      ]
    },
    {
      "cell_type": "code",
      "source": [
        "#10 create a python programme that uses filter() to remove all the vowels from a given string\n",
        "def remove_vowels(s):\n",
        "  return ''.join(filter(lambda x: x.lower() not in 'aeiou' , s))\n",
        "\n"
      ],
      "metadata": {
        "id": "qnZYTZcEkzBL"
      },
      "execution_count": 91,
      "outputs": []
    },
    {
      "cell_type": "code",
      "source": [],
      "metadata": {
        "id": "F_N5qKqZp2LO"
      },
      "execution_count": null,
      "outputs": []
    }
  ]
}